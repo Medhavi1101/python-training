{
    "metadata": {
        "kernelspec": {
            "name": "SQL",
            "display_name": "SQL",
            "language": "sql"
        },
        "language_info": {
            "name": "sql",
            "version": ""
        }
    },
    "nbformat_minor": 2,
    "nbformat": 4,
    "cells": [
        {
            "cell_type": "code",
            "source": [
                "create database ecolabs_books_db"
            ],
            "metadata": {
                "azdata_cell_guid": "7e204f82-8def-48ac-9772-bd5e9853142a",
                "language": "sql"
            },
            "outputs": [
                {
                    "output_type": "display_data",
                    "data": {
                        "text/html": "Commands completed successfully."
                    },
                    "metadata": {}
                },
                {
                    "output_type": "display_data",
                    "data": {
                        "text/html": "Total execution time: 00:00:00.696"
                    },
                    "metadata": {}
                }
            ],
            "execution_count": 1
        },
        {
            "cell_type": "code",
            "source": [
                "use ecolabs_books_db\r\n",
                ""
            ],
            "metadata": {
                "language": "sql",
                "azdata_cell_guid": "dc83dbb7-f7b1-4056-a717-d22a076be4f5"
            },
            "outputs": [
                {
                    "output_type": "display_data",
                    "data": {
                        "text/html": "Commands completed successfully."
                    },
                    "metadata": {}
                },
                {
                    "output_type": "display_data",
                    "data": {
                        "text/html": "Total execution time: 00:00:00"
                    },
                    "metadata": {}
                }
            ],
            "execution_count": 2
        },
        {
            "cell_type": "code",
            "source": [
                "CREATE TABLE authors (\r\n",
                "    author_id VARCHAR(100) PRIMARY KEY ,\r\n",
                "    author_name VARCHAR(100),\r\n",
                "    bio VARCHAR(100),\r\n",
                ");"
            ],
            "metadata": {
                "language": "sql",
                "azdata_cell_guid": "209702cc-e811-4c65-a34c-d8c105ec1b05"
            },
            "outputs": [
                {
                    "output_type": "display_data",
                    "data": {
                        "text/html": "Commands completed successfully."
                    },
                    "metadata": {}
                },
                {
                    "output_type": "display_data",
                    "data": {
                        "text/html": "Total execution time: 00:00:00.070"
                    },
                    "metadata": {}
                }
            ],
            "execution_count": 4
        },
        {
            "cell_type": "code",
            "source": [
                "CREATE TABLE books (\r\n",
                "    book_id VARCHAR(100) PRIMARY KEY,\r\n",
                "    title VARCHAR(100),\r\n",
                "    book_details VARCHAR(100),\r\n",
                "    author_id VARCHAR(100) FOREIGN KEY (author_id) REFERENCES authors(author_id)\r\n",
                ");"
            ],
            "metadata": {
                "language": "sql",
                "azdata_cell_guid": "c31822bd-ad6d-4e57-bf36-17860c65d814",
                "tags": []
            },
            "outputs": [
                {
                    "output_type": "display_data",
                    "data": {
                        "text/html": "Commands completed successfully."
                    },
                    "metadata": {}
                },
                {
                    "output_type": "display_data",
                    "data": {
                        "text/html": "Total execution time: 00:00:00.073"
                    },
                    "metadata": {}
                }
            ],
            "execution_count": 7
        },
        {
            "cell_type": "code",
            "source": [
                "insert into authors(author_id, author_name, bio) values ('VDM', 'Vivek Dutta Mishra', 'Bio of VDM '),\r\n",
                "                                                        ('CB', 'Chetan Bhagat', 'Bio of CB'),\r\n",
                "                                                        ('AM', 'Amish', 'Bio of AM'),\r\n",
                "                                                        ('JKR', 'JK Rowlings', 'Bio of JKR'),\r\n",
                "                                                        ('JA', 'Jeffrey Archer', 'Bio of JA'),\r\n",
                "                                                        ('JG', 'John Grisham','Bio of JG'),\r\n",
                "                                                        ('RSD', 'Ramdhari Singh Dinkar', 'Bio of RSD'),\r\n",
                "                                                        ('DB', 'Dan Brown', 'Bio of DB');"
            ],
            "metadata": {
                "language": "sql",
                "azdata_cell_guid": "abfdc469-e224-4be8-972a-237747875f84"
            },
            "outputs": [
                {
                    "output_type": "display_data",
                    "data": {
                        "text/html": "(8 rows affected)"
                    },
                    "metadata": {}
                },
                {
                    "output_type": "display_data",
                    "data": {
                        "text/html": "Total execution time: 00:00:00.074"
                    },
                    "metadata": {}
                }
            ],
            "execution_count": 8
        },
        {
            "cell_type": "code",
            "source": [
                "INSERT  \r\n",
                "    INTO BOOKS\r\n",
                "        (book_id, title, book_details, author_id) \r\n",
                "    VALUES \r\n",
                "        ('the-accursed-god','The Accursed God','Book written by Vivek Dutta Mishra','VDM'), \r\n",
                "        ('kane-and-abel','Kane and Abel','Book written by Jeffrey Archer','JA'), \r\n",
                "        ('rashmirathi','Rashmirathi','Book written by Ramdhari Singh Dinkar','RSD'), \r\n",
                "        ('sons-of-fortune','Sons of Fortune','Book written by Jeffrey Archer','JA'), \r\n",
                "        ('manas','Manas','Book written by Vivek Dutta Mishra','VDM'), \r\n",
                "        ('summons','Summons','Book written by John Grisham','JG'), \r\n",
                "        ('five-point-someone','Five Point SomeOne','Book written by Chetan Bhagat','CB'), \r\n",
                "        ('scion-of-ikshavaku','The Scion of Ikshavaku','Book written by Amish','AM'), \r\n",
                "        ('kurukshetra','Kurukshetra','Book written by Ramdhari Singh Dinkar','RSD'),\r\n",
                "        ('harry-potter-1','Harry Potter and the Soccers Stone','Book written by JK Rowlings','JKR'), \r\n",
                "        ('harry-potter-2','Harry Potter and the Chambers of Secrets','Book written by JK Rowlings','JKR'), \r\n",
                "        ('harry-potter-3','Harry Potter and the Prisoner of Askaban','Book written by JK Rowlings','JKR'), \r\n",
                "        ('harry-potter-4','Harry Potter and the Goblet of Fire','Book written by JK Rowlings','JKR'), \r\n",
                "        ('harry-potter-5','Harry Potter and the Order of Phoenix','Book written by JK Rowlings','JKR'), \r\n",
                "        ('harry-potter-6','Harry Potter and the Half Blood Prince','Book written by JK Rowlings','JKR'), \r\n",
                "        ('harry-potter-7','Harry Potter and the Deathly Hollows','Book written by JK Rowlings','JKR');"
            ],
            "metadata": {
                "language": "sql",
                "azdata_cell_guid": "5406c0b1-7aa0-4c90-8e30-1b1db7623a7f"
            },
            "outputs": [
                {
                    "output_type": "display_data",
                    "data": {
                        "text/html": "(16 rows affected)"
                    },
                    "metadata": {}
                },
                {
                    "output_type": "display_data",
                    "data": {
                        "text/html": "Total execution time: 00:00:00.082"
                    },
                    "metadata": {}
                }
            ],
            "execution_count": 9
        },
        {
            "cell_type": "code",
            "source": [
                "CREATE TABLE Users (\r\n",
                "    userid VARCHAR(100) PRIMARY KEY,\r\n",
                "    username VARCHAR(100),\r\n",
                "    password VARCHAR(100)\r\n",
                ");"
            ],
            "metadata": {
                "language": "sql",
                "azdata_cell_guid": "c9c14d8c-2794-4cbf-a33d-74d279c39e7a"
            },
            "outputs": [
                {
                    "output_type": "display_data",
                    "data": {
                        "text/html": "Commands completed successfully."
                    },
                    "metadata": {}
                },
                {
                    "output_type": "display_data",
                    "data": {
                        "text/html": "Total execution time: 00:00:00.006"
                    },
                    "metadata": {}
                }
            ],
            "execution_count": 10
        },
        {
            "cell_type": "code",
            "source": [
                "INSERT INTO  Users (userid,username,password) \r\n",
                " VALUES  \r\n",
                "        ('M1','Medhavi','Medhavi@123'),\r\n",
                "        ('S2','Smriti','Smriti@123'),\r\n",
                "        ('P3','Pranav','Pranav@123');"
            ],
            "metadata": {
                "language": "sql",
                "azdata_cell_guid": "fa25bcbd-d30e-43e7-a388-60903e6877c6"
            },
            "outputs": [
                {
                    "output_type": "display_data",
                    "data": {
                        "text/html": "(3 rows affected)"
                    },
                    "metadata": {}
                },
                {
                    "output_type": "display_data",
                    "data": {
                        "text/html": "Total execution time: 00:00:00.075"
                    },
                    "metadata": {}
                }
            ],
            "execution_count": 11
        },
        {
            "cell_type": "code",
            "source": [
                "CREATE TABLE Reviews (\r\n",
                "    review_id VARCHAR(100) ,\r\n",
                "    book_id VARCHAR(100) FOREIGN KEY (book_id) REFERENCES Books(book_id),\r\n",
                "    userid VARCHAR(100) FOREIGN KEY (userid) REFERENCES Users(userid),\r\n",
                "    rating INT,\r\n",
                "    review_text VARCHAR(100)\r\n",
                ");"
            ],
            "metadata": {
                "language": "sql",
                "azdata_cell_guid": "87dc03b4-00c6-4e1f-afca-43b88d40f9bb"
            },
            "outputs": [
                {
                    "output_type": "display_data",
                    "data": {
                        "text/html": "Commands completed successfully."
                    },
                    "metadata": {}
                },
                {
                    "output_type": "display_data",
                    "data": {
                        "text/html": "Total execution time: 00:00:00.073"
                    },
                    "metadata": {}
                }
            ],
            "execution_count": 13
        },
        {
            "cell_type": "code",
            "source": [
                "INSERT INTO  \r\n",
                "    REVIEWS(review_id, book_id,userid, rating,review_text) \r\n",
                "VALUES \r\n",
                "    ('review-1','manas','M1',4.5,'Beautiful'),\r\n",
                "         \r\n",
                "    ('review-2','rashmirathi','S2',3.5,'Nice one'), \r\n",
                "\r\n",
                "    ('review-3','sons-of-fortune','P3',4.5,'Nice'), \r\n",
                "\r\n",
                "    ('review-4','manas','M1',4.7,'Good Book'), \r\n",
                "\r\n",
                "    ('review-5','summons','S2',3.9,'Amazing'), \r\n",
                "\r\n",
                "    ('review-6','five-point-someone','S2',3,'Good work'), \r\n",
                "\r\n",
                "    ('review-7','scion-of-ikshavaku','P3',3.8,'Cool stuff'), \r\n",
                "\r\n",
                "    ('review-9','harry-potter-1','M1',4.2,'Mindblowing stuff'), \r\n",
                "    \r\n",
                "    ('review-8','harry-potter-3','M1',4.2,'Great book'), \r\n",
                "\r\n",
                "    ('review-8','kurukshetra','M1',4.2,'Amazing book');\r\n",
                "\r\n",
                "    "
            ],
            "metadata": {
                "language": "sql",
                "azdata_cell_guid": "ec35cbf4-dbd4-4383-b511-e5161f05a2c0"
            },
            "outputs": [
                {
                    "output_type": "display_data",
                    "data": {
                        "text/html": "(10 rows affected)"
                    },
                    "metadata": {}
                },
                {
                    "output_type": "display_data",
                    "data": {
                        "text/html": "Total execution time: 00:00:00.083"
                    },
                    "metadata": {}
                }
            ],
            "execution_count": 15
        },
        {
            "cell_type": "code",
            "source": [
                "select * from books"
            ],
            "metadata": {
                "language": "sql",
                "azdata_cell_guid": "40a4ca31-37d3-4407-b710-e720d078f287"
            },
            "outputs": [
                {
                    "output_type": "display_data",
                    "data": {
                        "text/html": "(16 rows affected)"
                    },
                    "metadata": {}
                },
                {
                    "output_type": "display_data",
                    "data": {
                        "text/html": "Total execution time: 00:00:00.103"
                    },
                    "metadata": {}
                },
                {
                    "output_type": "execute_result",
                    "execution_count": 14,
                    "data": {
                        "application/vnd.dataresource+json": {
                            "schema": {
                                "fields": [
                                    {
                                        "name": "book_id"
                                    },
                                    {
                                        "name": "title"
                                    },
                                    {
                                        "name": "book_details"
                                    },
                                    {
                                        "name": "author_id"
                                    }
                                ]
                            },
                            "data": [
                                {
                                    "book_id": "five-point-someone",
                                    "title": "Five Point SomeOne",
                                    "book_details": "Book written by Chetan Bhagat",
                                    "author_id": "CB"
                                },
                                {
                                    "book_id": "harry-potter-1",
                                    "title": "Harry Potter and the Soccers Stone",
                                    "book_details": "Book written by JK Rowlings",
                                    "author_id": "JKR"
                                },
                                {
                                    "book_id": "harry-potter-2",
                                    "title": "Harry Potter and the Chambers of Secrets",
                                    "book_details": "Book written by JK Rowlings",
                                    "author_id": "JKR"
                                },
                                {
                                    "book_id": "harry-potter-3",
                                    "title": "Harry Potter and the Prisoner of Askaban",
                                    "book_details": "Book written by JK Rowlings",
                                    "author_id": "JKR"
                                },
                                {
                                    "book_id": "harry-potter-4",
                                    "title": "Harry Potter and the Goblet of Fire",
                                    "book_details": "Book written by JK Rowlings",
                                    "author_id": "JKR"
                                },
                                {
                                    "book_id": "harry-potter-5",
                                    "title": "Harry Potter and the Order of Phoenix",
                                    "book_details": "Book written by JK Rowlings",
                                    "author_id": "JKR"
                                },
                                {
                                    "book_id": "harry-potter-6",
                                    "title": "Harry Potter and the Half Blood Prince",
                                    "book_details": "Book written by JK Rowlings",
                                    "author_id": "JKR"
                                },
                                {
                                    "book_id": "harry-potter-7",
                                    "title": "Harry Potter and the Deathly Hollows",
                                    "book_details": "Book written by JK Rowlings",
                                    "author_id": "JKR"
                                },
                                {
                                    "book_id": "kane-and-abel",
                                    "title": "Kane and Abel",
                                    "book_details": "Book written by Jeffrey Archer",
                                    "author_id": "JA"
                                },
                                {
                                    "book_id": "kurukshetra",
                                    "title": "Kurukshetra",
                                    "book_details": "Book written by Ramdhari Singh Dinkar",
                                    "author_id": "RSD"
                                },
                                {
                                    "book_id": "manas",
                                    "title": "Manas",
                                    "book_details": "Book written by Vivek Dutta Mishra",
                                    "author_id": "VDM"
                                },
                                {
                                    "book_id": "rashmirathi",
                                    "title": "Rashmirathi",
                                    "book_details": "Book written by Ramdhari Singh Dinkar",
                                    "author_id": "RSD"
                                },
                                {
                                    "book_id": "scion-of-ikshavaku",
                                    "title": "The Scion of Ikshavaku",
                                    "book_details": "Book written by Amish",
                                    "author_id": "AM"
                                },
                                {
                                    "book_id": "sons-of-fortune",
                                    "title": "Sons of Fortune",
                                    "book_details": "Book written by Jeffrey Archer",
                                    "author_id": "JA"
                                },
                                {
                                    "book_id": "summons",
                                    "title": "Summons",
                                    "book_details": "Book written by John Grisham",
                                    "author_id": "JG"
                                },
                                {
                                    "book_id": "the-accursed-god",
                                    "title": "The Accursed God",
                                    "book_details": "Book written by Vivek Dutta Mishra",
                                    "author_id": "VDM"
                                }
                            ]
                        },
                        "text/html": "<table><tr><th>book_id</th><th>title</th><th>book_details</th><th>author_id</th></tr><tr><td>five-point-someone</td><td>Five Point SomeOne</td><td>Book written by Chetan Bhagat</td><td>CB</td></tr><tr><td>harry-potter-1</td><td>Harry Potter and the Soccers Stone</td><td>Book written by JK Rowlings</td><td>JKR</td></tr><tr><td>harry-potter-2</td><td>Harry Potter and the Chambers of Secrets</td><td>Book written by JK Rowlings</td><td>JKR</td></tr><tr><td>harry-potter-3</td><td>Harry Potter and the Prisoner of Askaban</td><td>Book written by JK Rowlings</td><td>JKR</td></tr><tr><td>harry-potter-4</td><td>Harry Potter and the Goblet of Fire</td><td>Book written by JK Rowlings</td><td>JKR</td></tr><tr><td>harry-potter-5</td><td>Harry Potter and the Order of Phoenix</td><td>Book written by JK Rowlings</td><td>JKR</td></tr><tr><td>harry-potter-6</td><td>Harry Potter and the Half Blood Prince</td><td>Book written by JK Rowlings</td><td>JKR</td></tr><tr><td>harry-potter-7</td><td>Harry Potter and the Deathly Hollows</td><td>Book written by JK Rowlings</td><td>JKR</td></tr><tr><td>kane-and-abel</td><td>Kane and Abel</td><td>Book written by Jeffrey Archer</td><td>JA</td></tr><tr><td>kurukshetra</td><td>Kurukshetra</td><td>Book written by Ramdhari Singh Dinkar</td><td>RSD</td></tr><tr><td>manas</td><td>Manas</td><td>Book written by Vivek Dutta Mishra</td><td>VDM</td></tr><tr><td>rashmirathi</td><td>Rashmirathi</td><td>Book written by Ramdhari Singh Dinkar</td><td>RSD</td></tr><tr><td>scion-of-ikshavaku</td><td>The Scion of Ikshavaku</td><td>Book written by Amish</td><td>AM</td></tr><tr><td>sons-of-fortune</td><td>Sons of Fortune</td><td>Book written by Jeffrey Archer</td><td>JA</td></tr><tr><td>summons</td><td>Summons</td><td>Book written by John Grisham</td><td>JG</td></tr><tr><td>the-accursed-god</td><td>The Accursed God</td><td>Book written by Vivek Dutta Mishra</td><td>VDM</td></tr></table>"
                    },
                    "metadata": {}
                }
            ],
            "execution_count": 14
        },
        {
            "cell_type": "code",
            "source": [
                "    select * from authors"
            ],
            "metadata": {
                "language": "sql",
                "azdata_cell_guid": "3ffe60fb-48b1-4ebb-b049-920625fbf562"
            },
            "outputs": [
                {
                    "output_type": "display_data",
                    "data": {
                        "text/html": "(8 rows affected)"
                    },
                    "metadata": {}
                },
                {
                    "output_type": "display_data",
                    "data": {
                        "text/html": "Total execution time: 00:00:00.005"
                    },
                    "metadata": {}
                },
                {
                    "output_type": "execute_result",
                    "execution_count": 16,
                    "data": {
                        "application/vnd.dataresource+json": {
                            "schema": {
                                "fields": [
                                    {
                                        "name": "author_id"
                                    },
                                    {
                                        "name": "author_name"
                                    },
                                    {
                                        "name": "bio"
                                    }
                                ]
                            },
                            "data": [
                                {
                                    "author_id": "AM",
                                    "author_name": "Amish",
                                    "bio": "Bio of AM"
                                },
                                {
                                    "author_id": "CB",
                                    "author_name": "Chetan Bhagat",
                                    "bio": "Bio of CB"
                                },
                                {
                                    "author_id": "DB",
                                    "author_name": "Dan Brown",
                                    "bio": "Bio of DB"
                                },
                                {
                                    "author_id": "JA",
                                    "author_name": "Jeffrey Archer",
                                    "bio": "Bio of JA"
                                },
                                {
                                    "author_id": "JG",
                                    "author_name": "John Grisham",
                                    "bio": "Bio of JG"
                                },
                                {
                                    "author_id": "JKR",
                                    "author_name": "JK Rowlings",
                                    "bio": "Bio of JKR"
                                },
                                {
                                    "author_id": "RSD",
                                    "author_name": "Ramdhari Singh Dinkar",
                                    "bio": "Bio of RSD"
                                },
                                {
                                    "author_id": "VDM",
                                    "author_name": "Vivek Dutta Mishra",
                                    "bio": "Bio of VDM "
                                }
                            ]
                        },
                        "text/html": "<table><tr><th>author_id</th><th>author_name</th><th>bio</th></tr><tr><td>AM</td><td>Amish</td><td>Bio of AM</td></tr><tr><td>CB</td><td>Chetan Bhagat</td><td>Bio of CB</td></tr><tr><td>DB</td><td>Dan Brown</td><td>Bio of DB</td></tr><tr><td>JA</td><td>Jeffrey Archer</td><td>Bio of JA</td></tr><tr><td>JG</td><td>John Grisham</td><td>Bio of JG</td></tr><tr><td>JKR</td><td>JK Rowlings</td><td>Bio of JKR</td></tr><tr><td>RSD</td><td>Ramdhari Singh Dinkar</td><td>Bio of RSD</td></tr><tr><td>VDM</td><td>Vivek Dutta Mishra</td><td>Bio of VDM </td></tr></table>"
                    },
                    "metadata": {}
                }
            ],
            "execution_count": 16
        },
        {
            "cell_type": "code",
            "source": [
                "select * from books;"
            ],
            "metadata": {
                "language": "sql",
                "azdata_cell_guid": "9d0bd7ff-1c8f-478a-8b4f-4768f837483c"
            },
            "outputs": [
                {
                    "output_type": "display_data",
                    "data": {
                        "text/html": "(16 rows affected)"
                    },
                    "metadata": {}
                },
                {
                    "output_type": "display_data",
                    "data": {
                        "text/html": "Total execution time: 00:00:00.075"
                    },
                    "metadata": {}
                },
                {
                    "output_type": "execute_result",
                    "execution_count": 18,
                    "data": {
                        "application/vnd.dataresource+json": {
                            "schema": {
                                "fields": [
                                    {
                                        "name": "book_id"
                                    },
                                    {
                                        "name": "title"
                                    },
                                    {
                                        "name": "book_details"
                                    },
                                    {
                                        "name": "author_id"
                                    }
                                ]
                            },
                            "data": [
                                {
                                    "book_id": "five-point-someone",
                                    "title": "Five Point SomeOne",
                                    "book_details": "Book written by Chetan Bhagat",
                                    "author_id": "CB"
                                },
                                {
                                    "book_id": "harry-potter-1",
                                    "title": "Harry Potter and the Soccers Stone",
                                    "book_details": "Book written by JK Rowlings",
                                    "author_id": "JKR"
                                },
                                {
                                    "book_id": "harry-potter-2",
                                    "title": "Harry Potter and the Chambers of Secrets",
                                    "book_details": "Book written by JK Rowlings",
                                    "author_id": "JKR"
                                },
                                {
                                    "book_id": "harry-potter-3",
                                    "title": "Harry Potter and the Prisoner of Askaban",
                                    "book_details": "Book written by JK Rowlings",
                                    "author_id": "JKR"
                                },
                                {
                                    "book_id": "harry-potter-4",
                                    "title": "Harry Potter and the Goblet of Fire",
                                    "book_details": "Book written by JK Rowlings",
                                    "author_id": "JKR"
                                },
                                {
                                    "book_id": "harry-potter-5",
                                    "title": "Harry Potter and the Order of Phoenix",
                                    "book_details": "Book written by JK Rowlings",
                                    "author_id": "JKR"
                                },
                                {
                                    "book_id": "harry-potter-6",
                                    "title": "Harry Potter and the Half Blood Prince",
                                    "book_details": "Book written by JK Rowlings",
                                    "author_id": "JKR"
                                },
                                {
                                    "book_id": "harry-potter-7",
                                    "title": "Harry Potter and the Deathly Hollows",
                                    "book_details": "Book written by JK Rowlings",
                                    "author_id": "JKR"
                                },
                                {
                                    "book_id": "kane-and-abel",
                                    "title": "Kane and Abel",
                                    "book_details": "Book written by Jeffrey Archer",
                                    "author_id": "JA"
                                },
                                {
                                    "book_id": "kurukshetra",
                                    "title": "Kurukshetra",
                                    "book_details": "Book written by Ramdhari Singh Dinkar",
                                    "author_id": "RSD"
                                },
                                {
                                    "book_id": "manas",
                                    "title": "Manas",
                                    "book_details": "Book written by Vivek Dutta Mishra",
                                    "author_id": "VDM"
                                },
                                {
                                    "book_id": "rashmirathi",
                                    "title": "Rashmirathi",
                                    "book_details": "Book written by Ramdhari Singh Dinkar",
                                    "author_id": "RSD"
                                },
                                {
                                    "book_id": "scion-of-ikshavaku",
                                    "title": "The Scion of Ikshavaku",
                                    "book_details": "Book written by Amish",
                                    "author_id": "AM"
                                },
                                {
                                    "book_id": "sons-of-fortune",
                                    "title": "Sons of Fortune",
                                    "book_details": "Book written by Jeffrey Archer",
                                    "author_id": "JA"
                                },
                                {
                                    "book_id": "summons",
                                    "title": "Summons",
                                    "book_details": "Book written by John Grisham",
                                    "author_id": "JG"
                                },
                                {
                                    "book_id": "the-accursed-god",
                                    "title": "The Accursed God",
                                    "book_details": "Book written by Vivek Dutta Mishra",
                                    "author_id": "VDM"
                                }
                            ]
                        },
                        "text/html": "<table><tr><th>book_id</th><th>title</th><th>book_details</th><th>author_id</th></tr><tr><td>five-point-someone</td><td>Five Point SomeOne</td><td>Book written by Chetan Bhagat</td><td>CB</td></tr><tr><td>harry-potter-1</td><td>Harry Potter and the Soccers Stone</td><td>Book written by JK Rowlings</td><td>JKR</td></tr><tr><td>harry-potter-2</td><td>Harry Potter and the Chambers of Secrets</td><td>Book written by JK Rowlings</td><td>JKR</td></tr><tr><td>harry-potter-3</td><td>Harry Potter and the Prisoner of Askaban</td><td>Book written by JK Rowlings</td><td>JKR</td></tr><tr><td>harry-potter-4</td><td>Harry Potter and the Goblet of Fire</td><td>Book written by JK Rowlings</td><td>JKR</td></tr><tr><td>harry-potter-5</td><td>Harry Potter and the Order of Phoenix</td><td>Book written by JK Rowlings</td><td>JKR</td></tr><tr><td>harry-potter-6</td><td>Harry Potter and the Half Blood Prince</td><td>Book written by JK Rowlings</td><td>JKR</td></tr><tr><td>harry-potter-7</td><td>Harry Potter and the Deathly Hollows</td><td>Book written by JK Rowlings</td><td>JKR</td></tr><tr><td>kane-and-abel</td><td>Kane and Abel</td><td>Book written by Jeffrey Archer</td><td>JA</td></tr><tr><td>kurukshetra</td><td>Kurukshetra</td><td>Book written by Ramdhari Singh Dinkar</td><td>RSD</td></tr><tr><td>manas</td><td>Manas</td><td>Book written by Vivek Dutta Mishra</td><td>VDM</td></tr><tr><td>rashmirathi</td><td>Rashmirathi</td><td>Book written by Ramdhari Singh Dinkar</td><td>RSD</td></tr><tr><td>scion-of-ikshavaku</td><td>The Scion of Ikshavaku</td><td>Book written by Amish</td><td>AM</td></tr><tr><td>sons-of-fortune</td><td>Sons of Fortune</td><td>Book written by Jeffrey Archer</td><td>JA</td></tr><tr><td>summons</td><td>Summons</td><td>Book written by John Grisham</td><td>JG</td></tr><tr><td>the-accursed-god</td><td>The Accursed God</td><td>Book written by Vivek Dutta Mishra</td><td>VDM</td></tr></table>"
                    },
                    "metadata": {}
                }
            ],
            "execution_count": 18
        },
        {
            "cell_type": "code",
            "source": [
                "select * from users;"
            ],
            "metadata": {
                "language": "sql",
                "azdata_cell_guid": "fa6cbae1-ae02-42cd-b6e4-046ededd7be6"
            },
            "outputs": [
                {
                    "output_type": "display_data",
                    "data": {
                        "text/html": "(3 rows affected)"
                    },
                    "metadata": {}
                },
                {
                    "output_type": "display_data",
                    "data": {
                        "text/html": "Total execution time: 00:00:00.004"
                    },
                    "metadata": {}
                },
                {
                    "output_type": "execute_result",
                    "execution_count": 19,
                    "data": {
                        "application/vnd.dataresource+json": {
                            "schema": {
                                "fields": [
                                    {
                                        "name": "userid"
                                    },
                                    {
                                        "name": "username"
                                    },
                                    {
                                        "name": "password"
                                    }
                                ]
                            },
                            "data": [
                                {
                                    "userid": "M1",
                                    "username": "Medhavi",
                                    "password": "Medhavi@123"
                                },
                                {
                                    "userid": "P3",
                                    "username": "Pranav",
                                    "password": "Pranav@123"
                                },
                                {
                                    "userid": "S2",
                                    "username": "Smriti",
                                    "password": "Smriti@123"
                                }
                            ]
                        },
                        "text/html": "<table><tr><th>userid</th><th>username</th><th>password</th></tr><tr><td>M1</td><td>Medhavi</td><td>Medhavi@123</td></tr><tr><td>P3</td><td>Pranav</td><td>Pranav@123</td></tr><tr><td>S2</td><td>Smriti</td><td>Smriti@123</td></tr></table>"
                    },
                    "metadata": {}
                }
            ],
            "execution_count": 19
        },
        {
            "cell_type": "code",
            "source": [
                "select * from reviews;"
            ],
            "metadata": {
                "language": "sql",
                "azdata_cell_guid": "dbb9331f-cecb-42da-9a32-3f9d6e311d2b"
            },
            "outputs": [
                {
                    "output_type": "display_data",
                    "data": {
                        "text/html": "(10 rows affected)"
                    },
                    "metadata": {}
                },
                {
                    "output_type": "display_data",
                    "data": {
                        "text/html": "Total execution time: 00:00:00.008"
                    },
                    "metadata": {}
                },
                {
                    "output_type": "execute_result",
                    "execution_count": 20,
                    "data": {
                        "application/vnd.dataresource+json": {
                            "schema": {
                                "fields": [
                                    {
                                        "name": "review_id"
                                    },
                                    {
                                        "name": "book_id"
                                    },
                                    {
                                        "name": "userid"
                                    },
                                    {
                                        "name": "rating"
                                    },
                                    {
                                        "name": "review_text"
                                    }
                                ]
                            },
                            "data": [
                                {
                                    "review_id": "review-1",
                                    "book_id": "manas",
                                    "userid": "M1",
                                    "rating": "4",
                                    "review_text": "Beautiful"
                                },
                                {
                                    "review_id": "review-2",
                                    "book_id": "rashmirathi",
                                    "userid": "S2",
                                    "rating": "3",
                                    "review_text": "Nice one"
                                },
                                {
                                    "review_id": "review-3",
                                    "book_id": "sons-of-fortune",
                                    "userid": "P3",
                                    "rating": "4",
                                    "review_text": "Nice"
                                },
                                {
                                    "review_id": "review-4",
                                    "book_id": "manas",
                                    "userid": "M1",
                                    "rating": "4",
                                    "review_text": "Good Book"
                                },
                                {
                                    "review_id": "review-5",
                                    "book_id": "summons",
                                    "userid": "S2",
                                    "rating": "3",
                                    "review_text": "Amazing"
                                },
                                {
                                    "review_id": "review-6",
                                    "book_id": "five-point-someone",
                                    "userid": "S2",
                                    "rating": "3",
                                    "review_text": "Good work"
                                },
                                {
                                    "review_id": "review-7",
                                    "book_id": "scion-of-ikshavaku",
                                    "userid": "P3",
                                    "rating": "3",
                                    "review_text": "Cool stuff"
                                },
                                {
                                    "review_id": "review-9",
                                    "book_id": "harry-potter-1",
                                    "userid": "M1",
                                    "rating": "4",
                                    "review_text": "Mindblowing stuff"
                                },
                                {
                                    "review_id": "review-8",
                                    "book_id": "harry-potter-3",
                                    "userid": "M1",
                                    "rating": "4",
                                    "review_text": "Great book"
                                },
                                {
                                    "review_id": "review-8",
                                    "book_id": "kurukshetra",
                                    "userid": "M1",
                                    "rating": "4",
                                    "review_text": "Amazing book"
                                }
                            ]
                        },
                        "text/html": "<table><tr><th>review_id</th><th>book_id</th><th>userid</th><th>rating</th><th>review_text</th></tr><tr><td>review-1</td><td>manas</td><td>M1</td><td>4</td><td>Beautiful</td></tr><tr><td>review-2</td><td>rashmirathi</td><td>S2</td><td>3</td><td>Nice one</td></tr><tr><td>review-3</td><td>sons-of-fortune</td><td>P3</td><td>4</td><td>Nice</td></tr><tr><td>review-4</td><td>manas</td><td>M1</td><td>4</td><td>Good Book</td></tr><tr><td>review-5</td><td>summons</td><td>S2</td><td>3</td><td>Amazing</td></tr><tr><td>review-6</td><td>five-point-someone</td><td>S2</td><td>3</td><td>Good work</td></tr><tr><td>review-7</td><td>scion-of-ikshavaku</td><td>P3</td><td>3</td><td>Cool stuff</td></tr><tr><td>review-9</td><td>harry-potter-1</td><td>M1</td><td>4</td><td>Mindblowing stuff</td></tr><tr><td>review-8</td><td>harry-potter-3</td><td>M1</td><td>4</td><td>Great book</td></tr><tr><td>review-8</td><td>kurukshetra</td><td>M1</td><td>4</td><td>Amazing book</td></tr></table>"
                    },
                    "metadata": {}
                }
            ],
            "execution_count": 20
        }
    ]
}